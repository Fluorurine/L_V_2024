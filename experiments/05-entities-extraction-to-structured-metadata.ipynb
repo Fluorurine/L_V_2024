{
 "cells": [
  {
   "cell_type": "markdown",
   "id": "f560f9c1-2672-4a55-9cc8-0603c67198d4",
   "metadata": {
    "tags": []
   },
   "source": [
    "# 05 - Structured metadata extraction for analytical question answering\n",
    "\n",
    "In this notebook we will be using the output of the `question-answering-using-rag.ipynb` notebook to generate structured data containing specified entities extracted from each of the documents. We will then use this structured data to answer questions.\n",
    "\n",
    "Notebook overview:\n",
    "1. Define the embedding model to initialize the vectorstore created in `04-question-answering-using-rag.ipynb` (faiss_vector_store).\n",
    "2. Define the LLM model that will be used to extract the entities.\n",
    "3. Define the entities to be extracted.\n",
    "4. Extract the entities.\n",
    "\n",
    "Requirements:\n",
    "\n",
    "- To be able to extract relevant entities from the provided documents, the LLM needs to have a clear definition of what it is trying to extract. For example, if you want to extract the profit of a company from one of its financial reports, then asking the question \"What is the profit?\" might not be specific enough since the report can contain the profits of other companies. It may be important for your documents in S3 to contain relevant metadata that can be used in the queries to make the entities more specific.\n"
   ]
  },
  {
   "cell_type": "code",
   "execution_count": 1,
   "id": "c4400ce0-5209-4b8b-af2e-de73a5ba2cac",
   "metadata": {},
   "outputs": [],
   "source": [
    "import boto3\n",
    "from botocore.config import Config"
   ]
  },
  {
   "cell_type": "code",
   "execution_count": 2,
   "id": "7f663c22-e990-43e0-bd65-a1d3425e078c",
   "metadata": {
    "tags": []
   },
   "outputs": [],
   "source": [
    "ssm_client = boto3.client(\"ssm\")"
   ]
  },
  {
   "cell_type": "code",
   "execution_count": 3,
   "id": "5b7cb1f8-3c81-443d-933a-5af99f66d298",
   "metadata": {
    "tags": []
   },
   "outputs": [
    {
     "data": {
      "text/plain": [
       "('us-east-1', 'assistantbackendstack-agentdatabucket67afdfb9-pqa1faq3bool')"
      ]
     },
     "execution_count": 3,
     "metadata": {},
     "output_type": "execute_result"
    }
   ],
   "source": [
    "bedrock_region_parameter = \"/AgenticLLMAssistant/bedrock_region\"\n",
    "bedrock_endpoint_parameter = \"/AgenticLLMAssistant/bedrock_endpoint\"\n",
    "s3_bucket_name_parameter = \"/AgenticLLMAssistant/AgentDataBucketParameter\"\n",
    "\n",
    "BEDROCK_REGION = ssm_client.get_parameter(Name=bedrock_region_parameter)\n",
    "BEDROCK_REGION = BEDROCK_REGION[\"Parameter\"][\"Value\"]\n",
    "\n",
    "S3_BUCKET_NAME = ssm_client.get_parameter(Name=s3_bucket_name_parameter)\n",
    "S3_BUCKET_NAME = S3_BUCKET_NAME[\"Parameter\"][\"Value\"]\n",
    "\n",
    "BEDROCK_REGION, S3_BUCKET_NAME"
   ]
  },
  {
   "cell_type": "code",
   "execution_count": 4,
   "id": "58535b5f-5fb9-403d-9fb4-485e0eb36b59",
   "metadata": {},
   "outputs": [],
   "source": [
    "# LLM_MODEL_ID = \"anthropic.claude-v1\"\n",
    "LLM_MODEL_ID = \"anthropic.claude-v2\""
   ]
  },
  {
   "cell_type": "code",
   "execution_count": 5,
   "id": "dfbc0029-22ff-4b47-9146-54d26f2a2c4f",
   "metadata": {},
   "outputs": [],
   "source": [
    "retry_config = Config(\n",
    "    region_name=BEDROCK_REGION, retries={\"max_attempts\": 10, \"mode\": \"standard\"}\n",
    ")\n",
    "bedrock_runtime = boto3.client(\"bedrock-runtime\", config=retry_config)\n",
    "bedrock = boto3.client(\"bedrock\", config=retry_config)"
   ]
  },
  {
   "cell_type": "markdown",
   "id": "0ed130f7-ca2f-4129-8f77-a8df6bbd064e",
   "metadata": {},
   "source": [
    "First get all of the documents that were used to create the vectorstore."
   ]
  },
  {
   "cell_type": "code",
   "execution_count": 6,
   "id": "59c9bdae-0924-405c-8f52-8f056b8c7d86",
   "metadata": {
    "tags": []
   },
   "outputs": [],
   "source": [
    "from utils.helpers import load_list_from_s3"
   ]
  },
  {
   "cell_type": "code",
   "execution_count": 7,
   "id": "1d473e1d-5600-4853-b6a2-7081d8c5e25b",
   "metadata": {
    "tags": []
   },
   "outputs": [],
   "source": [
    "s3_key = \"documents_processed.json\"\n",
    "documents_processed = load_list_from_s3(S3_BUCKET_NAME, s3_key)"
   ]
  },
  {
   "cell_type": "code",
   "execution_count": 8,
   "id": "c9e76caa-9dea-43fa-8284-28f360c7442e",
   "metadata": {
    "tags": []
   },
   "outputs": [
    {
     "data": {
      "text/plain": [
       "(2, 5)"
      ]
     },
     "execution_count": 8,
     "metadata": {},
     "output_type": "execute_result"
    }
   ],
   "source": [
    "len(documents_processed), len(documents_processed[0][\"pages\"])"
   ]
  },
  {
   "cell_type": "markdown",
   "id": "bfee4b4a-7c16-4686-bdfa-4eea70dca78c",
   "metadata": {},
   "source": [
    "## Define the embedding model to embed the queries.\n",
    "\n",
    "Make sure to use the same embedding model that was used to create the embeddings for the documents.\n",
    "In this notebooks, we will continue to use the Titan embedding model from Amazon Bedrock."
   ]
  },
  {
   "cell_type": "code",
   "execution_count": 9,
   "id": "62b6cc93-d0e5-48a0-b0b4-ba3aa1ff804e",
   "metadata": {
    "tags": []
   },
   "outputs": [],
   "source": [
    "from langchain.embeddings import BedrockEmbeddings\n",
    "\n",
    "# Define an embedding model to generate embeddings\n",
    "embedding_model_id = \"amazon.titan-embed-text-v1\"\n",
    "embedding_model = BedrockEmbeddings(model_id=embedding_model_id, client=bedrock_runtime)"
   ]
  },
  {
   "cell_type": "markdown",
   "id": "ce88aabd-86a5-4873-a40f-d3999312fcfb",
   "metadata": {},
   "source": [
    "#### Initialize the vectorstore using the embedding model"
   ]
  },
  {
   "cell_type": "code",
   "execution_count": 10,
   "id": "0f201ea1-3c67-4df5-a113-4d6839118de7",
   "metadata": {
    "tags": []
   },
   "outputs": [],
   "source": [
    "from langchain.vectorstores import FAISS\n",
    "\n",
    "faiss = FAISS.load_local(\"faiss_vector_store\", embedding_model)"
   ]
  },
  {
   "cell_type": "code",
   "execution_count": 11,
   "id": "f3cde7db-6ec8-4beb-be5f-3f9584fe25ba",
   "metadata": {
    "tags": []
   },
   "outputs": [],
   "source": [
    "# uncomment the following to show the stored chunks in the vector store.\n",
    "# faiss.docstore._dict"
   ]
  },
  {
   "cell_type": "markdown",
   "id": "1a77138e-3f8c-45bd-8997-d724023a614d",
   "metadata": {
    "tags": []
   },
   "source": [
    "## Define the generation model, which does the extraction\n",
    "\n",
    "For the generation model you are free to choose which model you would like to use, in this notebook we use Amazon Titan embedding model available through Amazon Bedrock."
   ]
  },
  {
   "cell_type": "markdown",
   "id": "139c55f9-c91f-4b96-8b81-4d665882f78c",
   "metadata": {},
   "source": [
    "Define an Amazon Bedrock generation model\n",
    "\n",
    "- If you did not use Amazon Bedrock in the `question-answering-using-rag.ipynb` notebook, please go to that notebook first and follow the installation steps mentioned there."
   ]
  },
  {
   "cell_type": "code",
   "execution_count": 12,
   "id": "c5500986-cf83-4856-9412-ae2f3cb9be92",
   "metadata": {
    "tags": []
   },
   "outputs": [],
   "source": [
    "from langchain.embeddings import BedrockEmbeddings\n",
    "from langchain.llms.bedrock import Bedrock as LangchainBedrock\n",
    "\n",
    "# Define a generation model to generate text\n",
    "claude_llm = LangchainBedrock(\n",
    "    model_id=LLM_MODEL_ID,\n",
    "    client=bedrock_runtime,\n",
    "    model_kwargs={\"max_tokens_to_sample\": 1024, \"temperature\": 0.0},\n",
    ")"
   ]
  },
  {
   "cell_type": "markdown",
   "id": "8ac6b83e-1ce4-4a06-be16-1f5087eb7c62",
   "metadata": {
    "tags": []
   },
   "source": [
    "## Define the entities to be extracted\n",
    "For the sake of simplicity we are considering entities that can be described using a `description` and a `type`.<br>\n",
    "You can easily generate a description for your entities using an LLM with the prompt \"Can you give a description of what '{entity}' means regarding a company, in a maximum of 2 sentences\".\n",
    "\n",
    "The `rag_query` represents the query that will be used to find relevant context to extract the entity from. This query can contain the available metadata about the document you are trying to extract the entity from. In our case, we have `company` and `year` as available metadata for each document.<br>\n",
    "It is wise to experiment with the `rag_query` to improve the returned context."
   ]
  },
  {
   "cell_type": "code",
   "execution_count": 13,
   "id": "173f6326-a421-4e86-a25c-f511bf55a003",
   "metadata": {
    "tags": []
   },
   "outputs": [],
   "source": [
    "entity_list = {\n",
    "    \"revenue\": {\n",
    "        \"description\": \"Total income from goods sold or services provided in {company} in {year} exactly as defined in the document within <document></document> XML tags.\",\n",
    "        \"rag_query\": \"What is the total revenue of {company} in {year}.\",\n",
    "    },\n",
    "    \"risks\": {\n",
    "        \"description\": \"Summary of risks impacting {company} in {year} as defined in the document within <document></document> XML tags.\",\n",
    "        \"rag_query\": \"What are the main risks for {company} in {year}.\",\n",
    "    },\n",
    "    \"human_capital\": {\n",
    "        \"description\": \"The total number of employees in {company} in {year} exactly as defined in the document within <document></document> XML tags.\",\n",
    "        \"rag_query\": \"What is the total number of employees in {company} in {year}.\",\n",
    "    },\n",
    "}"
   ]
  },
  {
   "cell_type": "code",
   "execution_count": 14,
   "id": "e53d7222-7482-4d18-89f4-c746ba6cc2f3",
   "metadata": {
    "tags": []
   },
   "outputs": [],
   "source": [
    "# Method that returns all tables present on the page of the provided chunk.\n",
    "def add_tables(chunk):\n",
    "    # The company and year the chunk corresponds to\n",
    "    chunk_company = chunk.metadata[\"company\"]\n",
    "    chunk_year = chunk.metadata[\"year\"]\n",
    "\n",
    "    # The document and page that the chunk came from\n",
    "    doc = [\n",
    "        document\n",
    "        for document in documents_processed\n",
    "        if (\n",
    "            document[\"metadata\"][\"company\"] == chunk_company\n",
    "            and document[\"metadata\"][\"year\"] == chunk_year\n",
    "        )\n",
    "    ][0]\n",
    "    pages = doc[\"pages\"]\n",
    "    page = [\n",
    "        page\n",
    "        for page in pages\n",
    "        if (int(page[\"page\"]) == int(chunk.metadata[\"page_number\"]))\n",
    "    ][0]\n",
    "\n",
    "    # The tables (in markdown) that are present on the page that the chunk came from\n",
    "    tables = \"\"\n",
    "    for table_markdown in page[\"page_tables\"]:\n",
    "        tables += \"\\n\" + table_markdown\n",
    "    return chunk.page_content + \"\\n\" + tables.strip()"
   ]
  },
  {
   "cell_type": "markdown",
   "id": "02b7a55f-e880-497a-b5b8-03bcdb05d035",
   "metadata": {},
   "source": [
    "Use the following to experiment with the semantic search questions, and refine it to get the best results."
   ]
  },
  {
   "cell_type": "code",
   "execution_count": 15,
   "id": "1aa08407-c509-4f4f-9897-3d230f9f32c8",
   "metadata": {
    "tags": []
   },
   "outputs": [
    {
     "name": "stdout",
     "output_type": "stream",
     "text": [
      "\n",
      "\n",
      "\n",
      "Net product sales\n",
      "Net service sales\n",
      "Total net sales\n",
      "Operating expenses:\n",
      "Cost of sales\n",
      "Fulfillment\n",
      "Technology and content\n",
      "Marketing\n",
      "General and administrative\n",
      "Other operating expense (income), net\n",
      "Total operating expenses\n",
      "Operating income\n",
      "Interest income\n",
      "Interest expense\n",
      "Other income (expense), net\n",
      "Total non-operating income (expense)\n",
      "Income before income taxes\n",
      "Provision for income taxes\n",
      "Equity-method investment activity, net of tax\n",
      "Net income\n",
      "Basic earnings per share\n",
      "Diluted earnings per share\n",
      "Weighted-average shares used in computation of earnings per share:\n",
      "Basic\n",
      "Diluted\n",
      "CONSOLIDATED STATEMENTS OF OPERATIONS\n",
      "See accompanying notes to consolidated financial statements.\n",
      "AMAZON.COM, INC.\n",
      "(in millions, except per share data)\n",
      "37\n",
      "Year Ended December 31,\n",
      "2019\n",
      "2020\n",
      "2021\n",
      "$\n",
      "$\n",
      "$\n",
      "160,408\n",
      "215,915\n",
      "241,787\n",
      "120,114\n",
      "170,149\n",
      "228,035\n",
      "386,064\n",
      "280,522\n",
      "469,822\n",
      "165,536\n",
      "233,307\n",
      "272,344\n",
      "40,232\n",
      "58,517\n",
      "75,111\n",
      "35,931\n",
      "42,740\n",
      "56,052\n",
      "18,878\n",
      "22,008\n",
      "32,551\n",
      "8,823\n",
      "6,668\n",
      "5,203\n",
      "62\n",
      "(75)\n",
      "201\n",
      "444,943\n",
      "363,165\n",
      "265,981\n",
      "14,541\n",
      "22,899\n",
      "24,879\n",
      "448\n",
      "832\n",
      "555\n",
      "(1,600)\n",
      "(1,647)\n",
      "(1,809)\n",
      "14,633\n",
      "203\n",
      "2,371\n",
      "(565)\n",
      "13,272\n",
      "1,279\n",
      "13,976\n",
      "38,151\n",
      "24,178\n",
      "(2,863)\n",
      "(4,791)\n",
      "(2,374)\n",
      "(14)\n",
      "16\n",
      "4\n",
      "$\n",
      "$\n",
      "$\n",
      "21,331\n",
      "11,588\n",
      "33,364\n",
      "$\n",
      "$\n",
      "$\n",
      "65.96\n",
      "42.64\n",
      "23.46\n",
      "$\n",
      "$\n",
      "$\n",
      "64.81\n",
      "41.83\n",
      "23.01\n",
      "506\n",
      "494\n",
      "500\n",
      "510\n",
      "504\n",
      "515\n",
      "\n",
      "|    | 0                                                                  | 1         | 2              | 3         |\n",
      "|---:|:-------------------------------------------------------------------|:----------|:---------------|:----------|\n",
      "|  0 |                                                                    | Year      | Ended December | 31,       |\n",
      "|  1 |                                                                    | 2019      | 2020           | 2021      |\n",
      "|  2 | Net product sales                                                  | $ 160,408 | $ 215,915      | $ 241,787 |\n",
      "|  3 | Net service sales                                                  | 120,114   | 170,149        | 228,035   |\n",
      "|  4 | Total net sales                                                    | 280,522   | 386,064        | 469,822   |\n",
      "|  5 | Operating expenses:                                                |           |                |           |\n",
      "|  6 | Cost of sales                                                      | 165,536   | 233,307        | 272,344   |\n",
      "|  7 | Fulfillment                                                        | 40,232    | 58,517         | 75,111    |\n",
      "|  8 | Technology and content                                             | 35,931    | 42,740         | 56,052    |\n",
      "|  9 | Marketing                                                          | 18,878    | 22,008         | 32,551    |\n",
      "| 10 | General and administrative                                         | 5,203     | 6,668          | 8,823     |\n",
      "| 11 | Other operating expense (income), net                              | 201       | (75)           | 62        |\n",
      "| 12 | Total operating expenses                                           | 265,981   | 363,165        | 444,943   |\n",
      "| 13 | Operating income                                                   | 14,541    | 22,899         | 24,879    |\n",
      "| 14 | Interest income                                                    | 832       | 555            | 448       |\n",
      "| 15 | Interest expense                                                   | (1,600)   | (1,647)        | (1,809)   |\n",
      "| 16 | Other income (expense), net                                        | 203       | 2,371          | 14,633    |\n",
      "| 17 | Total non-operating income (expense)                               | (565)     | 1,279          | 13,272    |\n",
      "| 18 | Income before income taxes                                         | 13,976    | 24,178         | 38,151    |\n",
      "| 19 | Provision for income taxes                                         | (2,374)   | (2,863)        | (4,791)   |\n",
      "| 20 | Equity-method investment activity, net of tax                      | (14)      | 16             | 4         |\n",
      "| 21 | Net income                                                         | $ 11,588  | $ 21,331       | $ 33,364  |\n",
      "| 22 | Basic earnings per share                                           | $ 23.46   | $ 42.64        | $ 65.96   |\n",
      "| 23 | Diluted earnings per share                                         | $ 23.01   | $ 41.83        | $ 64.81   |\n",
      "| 24 | Weighted-average shares used in computation of earnings per share: |           |                |           |\n",
      "| 25 | Basic                                                              | 494       | 500            | 506       |\n",
      "| 26 | Diluted                                                            | 504       | 510            | 515       |\n",
      "\n",
      "\n",
      "\n"
     ]
    }
   ],
   "source": [
    "# Experiment with different rag queries\n",
    "rag_query = \"What is the total revenue of {company} in {year}.\"\n",
    "\n",
    "# Referring to the Annual report of Amazon in 2021\n",
    "company = \"Amazon\"\n",
    "year = 2021\n",
    "\n",
    "# Find context relevant to the query\n",
    "for doc in faiss.similarity_search(\n",
    "    query=rag_query.format(\n",
    "        company=company,\n",
    "        year=year,\n",
    "    ),\n",
    "    k=1,\n",
    "    filter={\n",
    "        # \"document_s3_metadata\": {\"company\": company},\n",
    "        \"company\": company,\n",
    "        # \"year\": year\n",
    "    },\n",
    "    fetch_k=1000,\n",
    "):\n",
    "    # print(doc.metadata)\n",
    "    print(\"\\n\\n\")\n",
    "    print(add_tables(doc))\n",
    "    print(\"\\n\\n\")"
   ]
  },
  {
   "cell_type": "markdown",
   "id": "b9eb51e7-1db1-4392-9eff-27e7e103bc53",
   "metadata": {
    "tags": []
   },
   "source": [
    "## Prepare the context for the LLM to extract entities\n",
    "For each combination of entity and document we retrieve relevant context to present to the generation model, which will use the context during extraction."
   ]
  },
  {
   "cell_type": "markdown",
   "id": "28cd3774-fcd5-4f81-a54d-85c8b5eb03aa",
   "metadata": {},
   "source": [
    "Retrieve the chunks for each combination of document and entity and store them.\n",
    "\n",
    "To improve the relevance of the retrieved documents you could use the document metadata added during creation of the vector store. If your documents in S3 have any S3 metadata attached to them, you should be able to reference it here using `document['metadata']`."
   ]
  },
  {
   "cell_type": "code",
   "execution_count": 16,
   "id": "4458749f-26f8-4a67-92c4-eb8deca326fe",
   "metadata": {
    "tags": []
   },
   "outputs": [
    {
     "name": "stdout",
     "output_type": "stream",
     "text": [
      "-------------------------------------------------------------------------------\n",
      "s3://assistantbackendstack-agentdatabucket67afdfb9-pqa1faq3bool/prepared_pdf_documents/Amazon/annual_report_2022.pdf\n",
      "Executing entity search on doc: s3://assistantbackendstack-agentdatabucket67afdfb9-pqa1faq3bool/prepared_pdf_documents/Amazon/annual_report_2022.pdf\n",
      "Query: What is the total revenue of Amazon in 2022.\n",
      "Query: What are the main risks for Amazon in 2022.\n",
      "Query: What is the total number of employees in Amazon in 2022.\n",
      "-------------------------------------------------------------------------------\n",
      "s3://assistantbackendstack-agentdatabucket67afdfb9-pqa1faq3bool/prepared_pdf_documents/Amazon/annual_report_2021.pdf\n",
      "Executing entity search on doc: s3://assistantbackendstack-agentdatabucket67afdfb9-pqa1faq3bool/prepared_pdf_documents/Amazon/annual_report_2021.pdf\n",
      "Query: What is the total revenue of Amazon in 2021.\n",
      "Query: What are the main risks for Amazon in 2021.\n",
      "Query: What is the total number of employees in Amazon in 2021.\n"
     ]
    }
   ],
   "source": [
    "map_doc_and_entity_to_chuncks = {}\n",
    "\n",
    "for document in documents_processed:\n",
    "    print(\"-\" * 79)\n",
    "    print(document[\"source_location\"])\n",
    "    map_doc_and_entity_to_chuncks[document[\"source_location\"]] = {}\n",
    "\n",
    "    # Use the S3 metadata to provide the prompt with relevant information\n",
    "    company = document[\"metadata\"][\"company\"]\n",
    "    year = document[\"metadata\"][\"year\"]\n",
    "\n",
    "    print(f\"Executing entity search on doc: {document['source_location']}\")\n",
    "    for entity in entity_list.keys():\n",
    "        query = entity_list[entity][\"rag_query\"].format(\n",
    "            company=company,\n",
    "            year=year,\n",
    "        )\n",
    "        print(f\"Query: {query}\")\n",
    "\n",
    "        document_entity_retrieved_chunks = faiss.similarity_search(\n",
    "            query=query,\n",
    "            k=4,\n",
    "            filter={\n",
    "                \"document_source_location\": document[\"source_location\"],\n",
    "            },\n",
    "            fetch_k=200,\n",
    "        )\n",
    "\n",
    "        map_doc_and_entity_to_chuncks[document[\"source_location\"]][entity] = {\n",
    "            \"chunks\": document_entity_retrieved_chunks,\n",
    "            \"metadata\": {\n",
    "                \"company\": company,\n",
    "                \"year\": year,\n",
    "            },\n",
    "        }"
   ]
  },
  {
   "cell_type": "markdown",
   "id": "cd590038-6417-4e45-90f9-5225baad91fa",
   "metadata": {
    "tags": []
   },
   "source": [
    "## Define the entities to extract"
   ]
  },
  {
   "cell_type": "code",
   "execution_count": 17,
   "id": "3135eef9-bd5e-45c8-8e67-bcbf408b474a",
   "metadata": {
    "tags": []
   },
   "outputs": [
    {
     "data": {
      "text/plain": [
       "{'revenue': {'description': 'Total income from goods sold or services provided in {company} in {year} exactly as defined in the document within <document></document> XML tags.',\n",
       "  'rag_query': 'What is the total revenue of {company} in {year}.'},\n",
       " 'risks': {'description': 'Summary of risks impacting {company} in {year} as defined in the document within <document></document> XML tags.',\n",
       "  'rag_query': 'What are the main risks for {company} in {year}.'},\n",
       " 'human_capital': {'description': 'The total number of employees in {company} in {year} exactly as defined in the document within <document></document> XML tags.',\n",
       "  'rag_query': 'What is the total number of employees in {company} in {year}.'}}"
      ]
     },
     "execution_count": 17,
     "metadata": {},
     "output_type": "execute_result"
    }
   ],
   "source": [
    "entity_list"
   ]
  },
  {
   "cell_type": "code",
   "execution_count": 18,
   "id": "987d62f3-11f2-4f42-a473-3355e0f6c79c",
   "metadata": {
    "tags": []
   },
   "outputs": [
    {
     "data": {
      "text/plain": [
       "'Total income from goods sold or services provided in {company} in {year} exactly as defined in the document within <document></document> XML tags.'"
      ]
     },
     "execution_count": 18,
     "metadata": {},
     "output_type": "execute_result"
    }
   ],
   "source": [
    "entity_list[\"revenue\"][\"description\"]"
   ]
  },
  {
   "cell_type": "code",
   "execution_count": 19,
   "id": "3b12d400-52c7-4bad-a368-2a6f6a12c097",
   "metadata": {},
   "outputs": [
    {
     "name": "stdout",
     "output_type": "stream",
     "text": [
      "Requirement already satisfied: pydantic in /opt/conda/lib/python3.10/site-packages (2.5.1)\n",
      "Collecting pydantic\n",
      "  Using cached pydantic-2.6.4-py3-none-any.whl.metadata (85 kB)\n",
      "Requirement already satisfied: annotated-types>=0.4.0 in /opt/conda/lib/python3.10/site-packages (from pydantic) (0.6.0)\n",
      "Requirement already satisfied: pydantic-core==2.16.3 in /opt/conda/lib/python3.10/site-packages (from pydantic) (2.16.3)\n",
      "Requirement already satisfied: typing-extensions>=4.6.1 in /opt/conda/lib/python3.10/site-packages (from pydantic) (4.10.0)\n",
      "Using cached pydantic-2.6.4-py3-none-any.whl (394 kB)\n",
      "Installing collected packages: pydantic\n",
      "  Attempting uninstall: pydantic\n",
      "    Found existing installation: pydantic 2.5.1\n",
      "    Uninstalling pydantic-2.5.1:\n",
      "      Successfully uninstalled pydantic-2.5.1\n",
      "\u001b[31mERROR: pip's dependency resolver does not currently take into account all the packages that are installed. This behaviour is the source of the following dependency conflicts.\n",
      "amazon-sagemaker-jupyter-scheduler 3.0.6 requires pydantic==1.*, but you have pydantic 2.6.4 which is incompatible.\n",
      "gluonts 0.13.7 requires pydantic~=1.7, but you have pydantic 2.6.4 which is incompatible.\u001b[0m\u001b[31m\n",
      "\u001b[0mSuccessfully installed pydantic-2.6.4\n",
      "Note: you may need to restart the kernel to use updated packages.\n"
     ]
    }
   ],
   "source": [
    "%pip install -U pydantic"
   ]
  },
  {
   "cell_type": "code",
   "execution_count": 30,
   "id": "d153e1c8-67a9-4fa8-b8b2-30e550fd3ce0",
   "metadata": {
    "tags": []
   },
   "outputs": [],
   "source": [
    "import json\n",
    "from datetime import date\n",
    "from pydantic import BaseModel, Field\n",
    "from typing import List\n",
    "\n",
    "\n",
    "class RevenueEntity(BaseModel):\n",
    "    revenue: float = Field(\n",
    "        description=entity_list[\"revenue\"][\"description\"], default=None\n",
    "    )\n",
    "    revenue_reasoning: str = Field(\n",
    "        description=\"Put here the text from the document used to infer the value for the revenue field.\",\n",
    "        default=None,\n",
    "    )\n",
    "    revenue_unit: str = Field(\n",
    "        description=\"Put here the unit of the revenue using ISO alphabetic code.\",\n",
    "        default=None,\n",
    "    )\n",
    "    revenue_unit_reasoning: str = Field(\n",
    "        description=\"Put here the text from the document used to infer the value for the revenue_unit field.\",\n",
    "        default=None,\n",
    "    )\n",
    "\n",
    "\n",
    "class RisksEntity(BaseModel):\n",
    "    risks: str = Field(description=entity_list[\"risks\"][\"description\"], default=None)\n",
    "    risks_reasoning: str = Field(\n",
    "        description=\"Put here the text from the document used to infer the value for the risks field.\",\n",
    "        default=None,\n",
    "    )\n",
    "\n",
    "\n",
    "class HumanCapitalEntity(BaseModel):\n",
    "    human_capital: int = Field(\n",
    "        description=entity_list[\"human_capital\"][\"description\"], default=None\n",
    "    )\n",
    "    human_capital_reasoning: str = Field(\n",
    "        description=\"Put here the text from the document used to infer the value for the human_capital field.\",\n",
    "        default=None,\n",
    "    )\n",
    "\n",
    "\n",
    "entity_schema = {}\n",
    "entity_schema[\"revenue\"] = RevenueEntity\n",
    "entity_schema[\"risks\"] = RisksEntity\n",
    "entity_schema[\"human_capital\"] = HumanCapitalEntity"
   ]
  },
  {
   "cell_type": "code",
   "execution_count": 31,
   "id": "22b15ca4-0dc7-4b4d-9a26-3466621bd967",
   "metadata": {},
   "outputs": [
    {
     "data": {
      "text/plain": [
       "{'properties': {'revenue': {'default': None,\n",
       "   'description': 'Total income from goods sold or services provided in {company} in {year} exactly as defined in the document within <document></document> XML tags.',\n",
       "   'title': 'Revenue',\n",
       "   'type': 'number'},\n",
       "  'revenue_reasoning': {'default': None,\n",
       "   'description': 'Put here the text from the document used to infer the value for the revenue field.',\n",
       "   'title': 'Revenue Reasoning',\n",
       "   'type': 'string'},\n",
       "  'revenue_unit': {'default': None,\n",
       "   'description': 'Put here the unit of the revenue using ISO alphabetic code.',\n",
       "   'title': 'Revenue Unit',\n",
       "   'type': 'string'},\n",
       "  'revenue_unit_reasoning': {'default': None,\n",
       "   'description': 'Put here the text from the document used to infer the value for the revenue_unit field.',\n",
       "   'title': 'Revenue Unit Reasoning',\n",
       "   'type': 'string'}},\n",
       " 'title': 'RevenueEntity',\n",
       " 'type': 'object'}"
      ]
     },
     "execution_count": 31,
     "metadata": {},
     "output_type": "execute_result"
    }
   ],
   "source": [
    "entity_schema[\"revenue\"].schema()"
   ]
  },
  {
   "cell_type": "code",
   "execution_count": 32,
   "id": "fde6a9f3-62d7-4894-a2f9-4332e490fbb6",
   "metadata": {},
   "outputs": [],
   "source": [
    "import pydantic"
   ]
  },
  {
   "cell_type": "code",
   "execution_count": 33,
   "id": "6dbd76a6-7b5b-4f4c-bb89-80dcbffab905",
   "metadata": {},
   "outputs": [
    {
     "data": {
      "text/plain": [
       "'2.6.4'"
      ]
     },
     "execution_count": 33,
     "metadata": {},
     "output_type": "execute_result"
    }
   ],
   "source": [
    "pydantic.__version__"
   ]
  },
  {
   "cell_type": "code",
   "execution_count": 34,
   "id": "d4f25d9f-e5f4-4ae9-91f5-cb6e26840efe",
   "metadata": {},
   "outputs": [
    {
     "data": {
      "text/plain": [
       "<module 'pydantic' from '/opt/conda/lib/python3.10/site-packages/pydantic/__init__.py'>"
      ]
     },
     "execution_count": 34,
     "metadata": {},
     "output_type": "execute_result"
    }
   ],
   "source": [
    "pydantic"
   ]
  },
  {
   "cell_type": "markdown",
   "id": "60d1fb45-3b21-47fa-a617-fec5dd59d587",
   "metadata": {
    "tags": []
   },
   "source": [
    "## Defining example extractions for all entities\n",
    "\n",
    "To boost the performance of the extraction for some entities, we add an extraction example to leverage 1-shot in-context learning.\n",
    "The example is chosen based on the type of the entity that is being extracted."
   ]
  },
  {
   "cell_type": "code",
   "execution_count": 35,
   "id": "42d0ee1e-2d67-48eb-83d1-9763c1da1f7f",
   "metadata": {
    "tags": []
   },
   "outputs": [
    {
     "name": "stdout",
     "output_type": "stream",
     "text": [
      "dict_keys(['revenue', 'risks', 'human_capital'])\n"
     ]
    }
   ],
   "source": [
    "print(entity_list.keys())"
   ]
  },
  {
   "cell_type": "code",
   "execution_count": 36,
   "id": "d06a43e5-c59b-4c43-85e5-9b116966f531",
   "metadata": {
    "tags": []
   },
   "outputs": [
    {
     "name": "stdout",
     "output_type": "stream",
     "text": [
      "\n",
      "\n",
      "Example 1: Given the information inside <schema> and <documents>, the correct output is inside <json> below:\n",
      "\n",
      "<schema>\n",
      "{\n",
      " \"properties\": {\n",
      "  \"revenue\": {\n",
      "   \"default\": null,\n",
      "   \"description\": \"Total income from goods sold or services provided in {company} in {year} exactly as defined in the document within <document></document> XML tags.\",\n",
      "   \"title\": \"Revenue\",\n",
      "   \"type\": \"number\"\n",
      "  },\n",
      "  \"revenue_reasoning\": {\n",
      "   \"default\": null,\n",
      "   \"description\": \"Put here the text from the document used to infer the value for the revenue field.\",\n",
      "   \"title\": \"Revenue Reasoning\",\n",
      "   \"type\": \"string\"\n",
      "  },\n",
      "  \"revenue_unit\": {\n",
      "   \"default\": null,\n",
      "   \"description\": \"Put here the unit of the revenue using ISO alphabetic code.\",\n",
      "   \"title\": \"Revenue Unit\",\n",
      "   \"type\": \"string\"\n",
      "  },\n",
      "  \"revenue_unit_reasoning\": {\n",
      "   \"default\": null,\n",
      "   \"description\": \"Put here the text from the document used to infer the value for the revenue_unit field.\",\n",
      "   \"title\": \"Revenue Unit Reasoning\",\n",
      "   \"type\": \"string\"\n",
      "  }\n",
      " },\n",
      " \"title\": \"RevenueEntity\",\n",
      " \"type\": \"object\"\n",
      "}\n",
      "</schema>\n",
      "\n",
      "<documents>\n",
      "Page 20 - After the 10% increase in the number of customers, the sales for Company Inc in 2019 was $513,983 million.\n",
      "</documents>\n",
      "\n",
      "Correct output:\n",
      "<json>\n",
      "{\n",
      " \"revenue\": 324483000000,\n",
      " \"revenue_reasoning\": \"The sales for Company Inc in 2019 was $324,483 million.\",\n",
      " \"revenue_unit\": \"USD\",\n",
      " \"revenue_unit_reasoning\": \"The financial report is in US dollars as stated on page 20.\"\n",
      "}\n",
      "</json>\n",
      "\n"
     ]
    }
   ],
   "source": [
    "example_template = \"\"\"\n",
    "Example {index}: Given the information inside <schema> and <documents>, the correct output is inside <json> below:\n",
    "\n",
    "<schema>\n",
    "{serialized_json_schema}\n",
    "</schema>\n",
    "\n",
    "<documents>\n",
    "{document_excerpts}\n",
    "</documents>\n",
    "\n",
    "Correct output:\n",
    "<json>\n",
    "{json_output}\n",
    "</json>\n",
    "\"\"\"\n",
    "\n",
    "example_pairs = {\n",
    "    \"revenue\": [\n",
    "        {\n",
    "            \"document_excerpts\": \"Page 20 - After the 10% increase in the number of customers, the sales for Company Inc in 2019 was $513,983 million.\",\n",
    "            \"json_output\": json.dumps(\n",
    "                {\n",
    "                    \"revenue\": 324483000000,\n",
    "                    \"revenue_reasoning\": \"The sales for Company Inc in 2019 was $324,483 million.\",\n",
    "                    \"revenue_unit\": \"USD\",\n",
    "                    \"revenue_unit_reasoning\": \"The financial report is in US dollars as stated on page 20.\",\n",
    "                },\n",
    "                indent=1,\n",
    "            ),\n",
    "        }\n",
    "    ],\n",
    "    \"human_capital\": [\n",
    "        {\n",
    "            \"document_excerpts\": \"Despite the COVID-19 pandemic, In 2019, Company Inc employed 349,329 employees worldwide.\",\n",
    "            \"json_output\": json.dumps(\n",
    "                {\n",
    "                    \"human_capital\": 349329,\n",
    "                    \"human_capital_reasoning\": \"In 2019, Company Inc employed 349,329 employees worldwide.\",\n",
    "                },\n",
    "                indent=1,\n",
    "            ),\n",
    "        }\n",
    "    ],\n",
    "    \"risks\": [\n",
    "        {\n",
    "            \"document_excerpts\": \"\"\"Competition continues to intensify, including with the development of new business models and the entry of new and well-funded competitors, and as our competitors enter into business combinations or alliances and established companies in other market segments expand to become competitive with our business. In addition, new and enhanced technologies, including search, web and infrastructure computing services, digital content, etc.\"\"\",\n",
    "            \"json_output\": json.dumps(\n",
    "                {\n",
    "                    \"risks\": \"The main risks are: \\n* Competition from new entrants\\n* Increased competition because of new technologies, \",\n",
    "                    \"risks_reasoning\": \"Competition continues to intensify, including with the development of new business models and the entry of new and well-funded competitors. In addition, new and enhanced technologies continue to increase our competition.\",\n",
    "                },\n",
    "                indent=1,\n",
    "            ),\n",
    "        }\n",
    "    ],\n",
    "}\n",
    "\n",
    "few_shot_examples = {}\n",
    "\n",
    "for entity in entity_list.keys():\n",
    "    combined_examples = \"\\n\"\n",
    "    for idx, current_example in enumerate(example_pairs[entity]):\n",
    "        serialized_json_schema = json.dumps(\n",
    "            entity_schema[entity].schema(), indent=1\n",
    "        )\n",
    "        combined_examples += example_template.format(\n",
    "            index=idx + 1,\n",
    "            serialized_json_schema=serialized_json_schema,\n",
    "            document_excerpts=current_example[\"document_excerpts\"],\n",
    "            json_output=current_example[\"json_output\"],\n",
    "        )\n",
    "    few_shot_examples[entity] = combined_examples\n",
    "\n",
    "\n",
    "print(few_shot_examples[\"revenue\"])"
   ]
  },
  {
   "cell_type": "markdown",
   "id": "d6d5691d-2c4d-4266-87aa-a2d946e74884",
   "metadata": {
    "tags": []
   },
   "source": [
    "## Define the prompt to extract the entities"
   ]
  },
  {
   "cell_type": "markdown",
   "id": "7e3c13a3-2d2b-471c-8de1-b8d0603a6f09",
   "metadata": {},
   "source": [
    "The prompt for the extracting was inspired by the paper [PromptNER : Prompting For Named Entity Recognition](https://arxiv.org/abs/2305.15444).\n",
    "\n",
    "The main components are a clear goal, one or more examples, and chain-of-thought reasoning.\n",
    "\n",
    "We use Claude v2 model available through Amazon Bedrock."
   ]
  },
  {
   "cell_type": "code",
   "execution_count": 38,
   "id": "b9aba565-0386-41da-b38c-d6f926118ff4",
   "metadata": {
    "tags": []
   },
   "outputs": [],
   "source": [
    "import json\n",
    "from langchain.chains import LLMChain\n",
    "from langchain.prompts import PromptTemplate\n",
    "from langchain.schema import HumanMessage, SystemMessage\n",
    "from langchain.output_parsers import PydanticOutputParser\n",
    "\n",
    "\n",
    "ENTITY_EXTRACTION_PROMPT_TEMPLATE = \"\"\"\\n\\nHuman: Extract the information described by the json schema inside the <schema></schema> XML tags from the documents inside <documents></documents> XML tags.\n",
    "Follow the rules inside the <rules></rules> XML tags during extraction:\n",
    "<rules>\n",
    "1. You must output a valid JSON.\n",
    "2. You must extract the value for each from the text inside <documents></documents>, and the value must match the description and type in JSON schema.\n",
    "3. Expand numbers into full digits format: example 1: 212,765,000,000 becomes 212765000000, example 2: $469.822 million becomes 469822000, example 3: 132,452 people becomes 132452.\n",
    "4. Don't use comma as thousands separator in the numbers you extract. For example 212,765 must be written as 212765.\n",
    "5. Consider the context inside <context></context> XML tags.\n",
    "6. If the document does not contain the value, put null.\n",
    "</rules>\n",
    "\n",
    "The JSON schema inside the <schema></schema> XML tags contains the information to extract:\n",
    "<schema>\n",
    "{serialized_json_schema}\n",
    "</schema>\n",
    "\n",
    "Extract information from the documents inside <documents></documents> XML tags below:\n",
    "<documents>\n",
    "{document_excerpts}\n",
    "</documents>\n",
    "\n",
    "Use the metadata inside the <context></context> XML tags when relevant to assist you during extraction:\n",
    "<context>\n",
    "The company is {company}.\n",
    "The year of the financial report is {year}.\n",
    "</context>\n",
    "\n",
    "Follow the extraction examples inside the <examples></examples> XML tags below:\n",
    "<examples>\n",
    "{few_shot_examples}\n",
    "</examples>\n",
    "\n",
    "Only write the JSON output inside <json></json> XML tags without further explanation.\n",
    "\n",
    "\\n\\nAssistant: <json>\\n\"\"\"\n",
    "\n",
    "llm_chain = LLMChain(\n",
    "    llm=claude_llm,\n",
    "    prompt=PromptTemplate.from_template(ENTITY_EXTRACTION_PROMPT_TEMPLATE),\n",
    ")\n",
    "\n",
    "\n",
    "def get_extracted_entity(\n",
    "    entity, metadata, chunks, entity_schema, few_shot_examples_dict\n",
    "):\n",
    "    \"\"\"Prepare the prompt for entity extraction.\"\"\"\n",
    "    document_excerpts = \"\"\n",
    "    for chunk in chunks:\n",
    "        document_excerpts += \"\\n\".join(\n",
    "            [\n",
    "                f\"- Below Excerpt of page {chunk.metadata['original_page_number']:}\",\n",
    "                \"\\n\",\n",
    "                f\"{add_tables(chunk)}\",\n",
    "            ]\n",
    "        )\n",
    "\n",
    "    # parser = PydanticOutputParser(pydantic_object=entity_schema[entity])\n",
    "    few_shot_examples = few_shot_examples_dict.get(entity, \"\")\n",
    "    serialized_json_schema = json.dumps(\n",
    "        entity_schema[entity].schema(), indent=1\n",
    "    )\n",
    "\n",
    "    prompt = ENTITY_EXTRACTION_PROMPT_TEMPLATE.format(\n",
    "        entity=entity,\n",
    "        metadata=metadata,\n",
    "        serialized_json_schema=serialized_json_schema,\n",
    "        company=metadata[\"company\"],\n",
    "        year=metadata[\"year\"],\n",
    "        document_excerpts=document_excerpts,\n",
    "        few_shot_examples=few_shot_examples,\n",
    "    )\n",
    "\n",
    "    result = llm_chain.predict(\n",
    "        entity=entity,\n",
    "        metadata=metadata,\n",
    "        serialized_json_schema=serialized_json_schema,\n",
    "        company=metadata[\"company\"],\n",
    "        year=metadata[\"year\"],\n",
    "        document_excerpts=document_excerpts,\n",
    "        few_shot_examples=few_shot_examples,\n",
    "    )\n",
    "\n",
    "    return result, prompt"
   ]
  },
  {
   "cell_type": "code",
   "execution_count": 39,
   "id": "b88834a9-1fca-41a8-bdec-92bff1821ed1",
   "metadata": {
    "tags": []
   },
   "outputs": [
    {
     "name": "stdout",
     "output_type": "stream",
     "text": [
      "-------------------------------------------------------------------------------\n",
      "Starting extraction of revenue from document annual_report_2022.pdf\n",
      "-------------------------------------------------------------------------------\n",
      "Starting extraction of risks from document annual_report_2022.pdf\n",
      "-------------------------------------------------------------------------------\n",
      "Starting extraction of human_capital from document annual_report_2022.pdf\n",
      "Finished extracting entities from document: s3://assistantbackendstack-agentdatabucket67afdfb9-pqa1faq3bool/prepared_pdf_documents/Amazon/annual_report_2022.pdf\n",
      "-------------------------------------------------------------------------------\n",
      "-------------------------------------------------------------------------------\n",
      "Starting extraction of revenue from document annual_report_2021.pdf\n",
      "-------------------------------------------------------------------------------\n",
      "Starting extraction of risks from document annual_report_2021.pdf\n",
      "-------------------------------------------------------------------------------\n",
      "Starting extraction of human_capital from document annual_report_2021.pdf\n",
      "Finished extracting entities from document: s3://assistantbackendstack-agentdatabucket67afdfb9-pqa1faq3bool/prepared_pdf_documents/Amazon/annual_report_2021.pdf\n",
      "-------------------------------------------------------------------------------\n"
     ]
    }
   ],
   "source": [
    "# Define a dictionary to save all the extracted items\n",
    "import json\n",
    "\n",
    "extracted_entities = []\n",
    "k = 2\n",
    "\n",
    "# Create a prompt for each combination of document and entity\n",
    "for document in list(map_doc_and_entity_to_chuncks.keys()):\n",
    "    # You could additionally use the metadata of documents defined in S3 to customize these prompts\n",
    "    # This metadata can also be found in the `documents_processed` variable under the key `metadata`.\n",
    "    document_name = document.split(\"/\")[-1]\n",
    "    # extracted_entities[document] = {}\n",
    "\n",
    "    for entity in entity_list.keys():\n",
    "        current_entity_result = {}\n",
    "        current_entity_result[\"entity_type\"] = entity\n",
    "        current_entity_result[\"source_doc\"] = document\n",
    "\n",
    "        print(\"-\" * 79)\n",
    "        print(f\"Starting extraction of {entity} from document {document_name}\")\n",
    "        try:\n",
    "            chunks = map_doc_and_entity_to_chuncks[document][entity][\"chunks\"]\n",
    "            if not chunks:\n",
    "                print(\n",
    "                    f\"WARNING: The input chunks are empty for {document} and {entity}. Skipping.\"\n",
    "                )\n",
    "                continue\n",
    "            metadata = map_doc_and_entity_to_chuncks[document][entity][\"metadata\"]\n",
    "            # extraction_example = entity_list[entity]['example']\n",
    "            # extraction_example = extraction_example,\n",
    "            current_entity_result.update(metadata)\n",
    "            result, prompt = get_extracted_entity(\n",
    "                entity=entity,\n",
    "                metadata=metadata,\n",
    "                chunks=chunks,\n",
    "                entity_schema=entity_schema,\n",
    "                few_shot_examples_dict=few_shot_examples,\n",
    "            )\n",
    "        # If the maximum context length was exceeded, try again with less context\n",
    "        except Exception as e:\n",
    "            print(f\"Exception: {e}\")\n",
    "\n",
    "        current_entity_result[\"result\"] = result\n",
    "        current_entity_result[\"prompt\"] = prompt\n",
    "        extracted_entities.append(current_entity_result)\n",
    "\n",
    "    print(f\"Finished extracting entities from document: {document}\")\n",
    "    print(\"-\" * 79)"
   ]
  },
  {
   "cell_type": "code",
   "execution_count": 40,
   "id": "43e72c67-d19a-46c7-907b-f53517ebf68a",
   "metadata": {
    "tags": []
   },
   "outputs": [
    {
     "name": "stdout",
     "output_type": "stream",
     "text": [
      "-------------------------------------------------------------------------------\n",
      "dict_keys(['entity_type', 'source_doc', 'company', 'year', 'result', 'prompt'])\n",
      "{\n",
      "  \"revenue\": 513983000000,\n",
      "  \"revenue_reasoning\": \"Total net sales for Amazon in 2022 was $513,983 million.\",\n",
      "  \"revenue_unit\": \"USD\",\n",
      "  \"revenue_unit_reasoning\": \"The financial report is in US dollars.\"\n",
      "}\n",
      "</json>\n",
      "-------------------------------------------------------------------------------\n",
      "dict_keys(['entity_type', 'source_doc', 'company', 'year', 'result', 'prompt'])\n",
      "{\n",
      "  \"risks\": \"The main risks impacting Amazon in 2022 are: competition from new business models and well-funded competitors, competitors forming alliances, established companies expanding into Amazon's segments, and new technologies enabling increased competition. Other risks include limited experience and lack of first-mover advantage in new segments, failure of new products/services to be adopted, disruption risks from new products/services, lack of profitability in new segments, and unsuccessful sustainability initiatives.\",\n",
      "  \"risks_reasoning\": \"Our businesses are rapidly evolving and intensely competitive, and we have many competitors across geographies, including cross-border competition, and in different industries, including physical, e-commerce, and omnichannel retail, e-commerce services, web and infrastructure computing services, electronic devices, digital content, advertising, grocery, and transportation and logistics services. Some of our current and potential competitors have greater resources, longer histories, more customers, and/or greater brand recognition, particularly with our newly-launched products and services and in our newer geographic regions. They may secure better terms from vendors, adopt more aggressive pricing, and devote more resources to technology, infrastructure, fulfillment, and marketing. Competition continues to intensify, including with the development of new business models and the entry of new and well-funded competitors, and as our competitors enter into business combinations or alliances and established companies in other market segments expand to become competitive with our business. In addition, new and enhanced technologies, including search, web and infrastructure computing services, digital content, and electronic devices continue to increase our competition. We may have limited or no experience in our newer market segments, and our customers may not adopt our product or service offerings. These offerings, which can present new and difficult technology challenges, may subject us to claims if customers of these offerings experience, or are otherwise impacted by, service disruptions, delays, setbacks, or failures or quality issues. In addition, profitability, if any, in our newer activities may not meet our expectations, and we may not be successful enough in these newer activities to recoup our investments in them, which investments are often significant. Failure to realize the benefits of amounts we invest in new technologies, products, or services could result in the value of those investments being written down or written off. In addition, our sustainability initiatives may be unsuccessful for a variety of reasons, including if we are unable to realize the expected benefits of new technologies or if we do not successfully plan or execute new strategies, which could harm our business or damage our reputation.\"\n",
      "}\n",
      "</json>\n",
      "-------------------------------------------------------------------------------\n",
      "dict_keys(['entity_type', 'source_doc', 'company', 'year', 'result', 'prompt'])\n",
      "{\n",
      "  \"human_capital\": 1541000,\n",
      "  \"human_capital_reasoning\": \"As of December 31, 2022, we employed approximately 1,541,000 full-time and part-time employees.\"\n",
      "}\n",
      "</json>\n",
      "-------------------------------------------------------------------------------\n",
      "dict_keys(['entity_type', 'source_doc', 'company', 'year', 'result', 'prompt'])\n",
      "{\n",
      " \"revenue\": 469822000000, \n",
      " \"revenue_reasoning\": \"Total net sales in 2021 was $469,822 million according to the table on page 47.\",\n",
      " \"revenue_unit\": \"USD\",\n",
      " \"revenue_unit_reasoning\": \"The financial report is in US dollars.\"\n",
      "}\n",
      "</json>\n",
      "-------------------------------------------------------------------------------\n",
      "dict_keys(['entity_type', 'source_doc', 'company', 'year', 'result', 'prompt'])\n",
      "{\n",
      "  \"risks\": \"The main risks impacting Amazon in 2021 are: intense competition, expansion into new products and geographies, dependence on technology, seasonal fluctuations in business, fraudulent activities by sellers, protecting intellectual property, and compliance with regulations in international markets.\",\n",
      "  \"risks_reasoning\": \"Competition continues to intensify, including with the development of new business models and the entry of new and well-funded competitors, and as our competitors enter into business combinations or alliances and established companies in other market segments expand to become competitive with our business. In addition, new and enhanced technologies, including search, web and infrastructure computing services, digital content, and electronic devices continue to increase our competition. Our Expansion into New Products, Services, Technologies, and Geographic Regions Subjects Us to Additional Risks. Our International Operations Expose Us to a Number of Risks.\"\n",
      "}\n",
      "</json>\n",
      "-------------------------------------------------------------------------------\n",
      "dict_keys(['entity_type', 'source_doc', 'company', 'year', 'result', 'prompt'])\n",
      "{\n",
      " \"human_capital\": 1608000,\n",
      " \"human_capital_reasoning\": \"As of December 31, 2021, we employed approximately 1,608,000 full-time and part-time employees.\"\n",
      "}\n",
      "</json>\n"
     ]
    }
   ],
   "source": [
    "for extraction in extracted_entities:\n",
    "    print(\"-\" * 79)\n",
    "    print(extraction.keys())\n",
    "    print(extraction[\"result\"])"
   ]
  },
  {
   "cell_type": "code",
   "execution_count": 41,
   "id": "8e779076-07f5-438d-95bb-c1b20a91ea56",
   "metadata": {
    "tags": []
   },
   "outputs": [
    {
     "name": "stdout",
     "output_type": "stream",
     "text": [
      "-------------------------------------------------------------------------------\n",
      "{'revenue': 513983000000.0, 'revenue_reasoning': 'Total net sales for Amazon in 2022 was $513,983 million.', 'revenue_unit': 'USD', 'revenue_unit_reasoning': 'The financial report is in US dollars.'}\n",
      "-------------------------------------------------------------------------------\n",
      "{'risks': \"The main risks impacting Amazon in 2022 are: competition from new business models and well-funded competitors, competitors forming alliances, established companies expanding into Amazon's segments, and new technologies enabling increased competition. Other risks include limited experience and lack of first-mover advantage in new segments, failure of new products/services to be adopted, disruption risks from new products/services, lack of profitability in new segments, and unsuccessful sustainability initiatives.\", 'risks_reasoning': 'Our businesses are rapidly evolving and intensely competitive, and we have many competitors across geographies, including cross-border competition, and in different industries, including physical, e-commerce, and omnichannel retail, e-commerce services, web and infrastructure computing services, electronic devices, digital content, advertising, grocery, and transportation and logistics services. Some of our current and potential competitors have greater resources, longer histories, more customers, and/or greater brand recognition, particularly with our newly-launched products and services and in our newer geographic regions. They may secure better terms from vendors, adopt more aggressive pricing, and devote more resources to technology, infrastructure, fulfillment, and marketing. Competition continues to intensify, including with the development of new business models and the entry of new and well-funded competitors, and as our competitors enter into business combinations or alliances and established companies in other market segments expand to become competitive with our business. In addition, new and enhanced technologies, including search, web and infrastructure computing services, digital content, and electronic devices continue to increase our competition. We may have limited or no experience in our newer market segments, and our customers may not adopt our product or service offerings. These offerings, which can present new and difficult technology challenges, may subject us to claims if customers of these offerings experience, or are otherwise impacted by, service disruptions, delays, setbacks, or failures or quality issues. In addition, profitability, if any, in our newer activities may not meet our expectations, and we may not be successful enough in these newer activities to recoup our investments in them, which investments are often significant. Failure to realize the benefits of amounts we invest in new technologies, products, or services could result in the value of those investments being written down or written off. In addition, our sustainability initiatives may be unsuccessful for a variety of reasons, including if we are unable to realize the expected benefits of new technologies or if we do not successfully plan or execute new strategies, which could harm our business or damage our reputation.'}\n",
      "-------------------------------------------------------------------------------\n",
      "{'human_capital': 1541000, 'human_capital_reasoning': 'As of December 31, 2022, we employed approximately 1,541,000 full-time and part-time employees.'}\n",
      "-------------------------------------------------------------------------------\n",
      "{'revenue': 469822000000.0, 'revenue_reasoning': 'Total net sales in 2021 was $469,822 million according to the table on page 47.', 'revenue_unit': 'USD', 'revenue_unit_reasoning': 'The financial report is in US dollars.'}\n",
      "-------------------------------------------------------------------------------\n",
      "{'risks': 'The main risks impacting Amazon in 2021 are: intense competition, expansion into new products and geographies, dependence on technology, seasonal fluctuations in business, fraudulent activities by sellers, protecting intellectual property, and compliance with regulations in international markets.', 'risks_reasoning': 'Competition continues to intensify, including with the development of new business models and the entry of new and well-funded competitors, and as our competitors enter into business combinations or alliances and established companies in other market segments expand to become competitive with our business. In addition, new and enhanced technologies, including search, web and infrastructure computing services, digital content, and electronic devices continue to increase our competition. Our Expansion into New Products, Services, Technologies, and Geographic Regions Subjects Us to Additional Risks. Our International Operations Expose Us to a Number of Risks.'}\n",
      "-------------------------------------------------------------------------------\n",
      "{'human_capital': 1608000, 'human_capital_reasoning': 'As of December 31, 2021, we employed approximately 1,608,000 full-time and part-time employees.'}\n"
     ]
    }
   ],
   "source": [
    "parsed_entities = []\n",
    "\n",
    "for extraction in extracted_entities:\n",
    "    current_entity = {}\n",
    "    # current_entity[\"entity_type\"] = extraction[\"entity_type\"]\n",
    "    current_entity[\"source_doc\"] = extraction[\"source_doc\"]\n",
    "    current_entity[\"company\"] = extraction[\"company\"]\n",
    "    current_entity[\"year\"] = extraction[\"year\"]\n",
    "\n",
    "    print(\"-\" * 79)\n",
    "    result = extraction[\"result\"]\n",
    "\n",
    "    try:\n",
    "        parser = PydanticOutputParser(\n",
    "            pydantic_object=entity_schema[extraction[\"entity_type\"]]\n",
    "        )\n",
    "        # We already feed the Assistant the start of the output <json>\\n\n",
    "        # to ensure it abides to the output format. Therefore, it will generate\n",
    "        # starting from {.., so we add <json>\\n here to complete the XML tags.\n",
    "        result = \"<json>\\n\" + result\n",
    "        json_result = parser.parse(result).dict()\n",
    "        print(json_result)\n",
    "        current_entity.update(json_result)\n",
    "    except Exception as e:\n",
    "        print(f\"Failed to parse output with error {e} for the following\")\n",
    "        print(result)\n",
    "\n",
    "    parsed_entities.append(current_entity)"
   ]
  },
  {
   "cell_type": "markdown",
   "id": "fd02f88a-c879-455d-bdbf-a34028df306b",
   "metadata": {},
   "source": [
    "Inspect extraction result and extraction prompt to verify their structure"
   ]
  },
  {
   "cell_type": "markdown",
   "id": "4e405093-b60c-4d63-a5fa-5e3e8543f973",
   "metadata": {},
   "source": [
    "#### Store the extracted entities in a DataFrame"
   ]
  },
  {
   "cell_type": "code",
   "execution_count": 42,
   "id": "f1f0a85e-a3d7-4cb8-bc98-3272ff5b5e3d",
   "metadata": {
    "tags": []
   },
   "outputs": [
    {
     "data": {
      "text/plain": [
       "[{'source_doc': 's3://assistantbackendstack-agentdatabucket67afdfb9-pqa1faq3bool/prepared_pdf_documents/Amazon/annual_report_2022.pdf',\n",
       "  'company': 'Amazon',\n",
       "  'year': '2022',\n",
       "  'revenue': 513983000000.0,\n",
       "  'revenue_reasoning': 'Total net sales for Amazon in 2022 was $513,983 million.',\n",
       "  'revenue_unit': 'USD',\n",
       "  'revenue_unit_reasoning': 'The financial report is in US dollars.'},\n",
       " {'source_doc': 's3://assistantbackendstack-agentdatabucket67afdfb9-pqa1faq3bool/prepared_pdf_documents/Amazon/annual_report_2022.pdf',\n",
       "  'company': 'Amazon',\n",
       "  'year': '2022',\n",
       "  'risks': \"The main risks impacting Amazon in 2022 are: competition from new business models and well-funded competitors, competitors forming alliances, established companies expanding into Amazon's segments, and new technologies enabling increased competition. Other risks include limited experience and lack of first-mover advantage in new segments, failure of new products/services to be adopted, disruption risks from new products/services, lack of profitability in new segments, and unsuccessful sustainability initiatives.\",\n",
       "  'risks_reasoning': 'Our businesses are rapidly evolving and intensely competitive, and we have many competitors across geographies, including cross-border competition, and in different industries, including physical, e-commerce, and omnichannel retail, e-commerce services, web and infrastructure computing services, electronic devices, digital content, advertising, grocery, and transportation and logistics services. Some of our current and potential competitors have greater resources, longer histories, more customers, and/or greater brand recognition, particularly with our newly-launched products and services and in our newer geographic regions. They may secure better terms from vendors, adopt more aggressive pricing, and devote more resources to technology, infrastructure, fulfillment, and marketing. Competition continues to intensify, including with the development of new business models and the entry of new and well-funded competitors, and as our competitors enter into business combinations or alliances and established companies in other market segments expand to become competitive with our business. In addition, new and enhanced technologies, including search, web and infrastructure computing services, digital content, and electronic devices continue to increase our competition. We may have limited or no experience in our newer market segments, and our customers may not adopt our product or service offerings. These offerings, which can present new and difficult technology challenges, may subject us to claims if customers of these offerings experience, or are otherwise impacted by, service disruptions, delays, setbacks, or failures or quality issues. In addition, profitability, if any, in our newer activities may not meet our expectations, and we may not be successful enough in these newer activities to recoup our investments in them, which investments are often significant. Failure to realize the benefits of amounts we invest in new technologies, products, or services could result in the value of those investments being written down or written off. In addition, our sustainability initiatives may be unsuccessful for a variety of reasons, including if we are unable to realize the expected benefits of new technologies or if we do not successfully plan or execute new strategies, which could harm our business or damage our reputation.'},\n",
       " {'source_doc': 's3://assistantbackendstack-agentdatabucket67afdfb9-pqa1faq3bool/prepared_pdf_documents/Amazon/annual_report_2022.pdf',\n",
       "  'company': 'Amazon',\n",
       "  'year': '2022',\n",
       "  'human_capital': 1541000,\n",
       "  'human_capital_reasoning': 'As of December 31, 2022, we employed approximately 1,541,000 full-time and part-time employees.'},\n",
       " {'source_doc': 's3://assistantbackendstack-agentdatabucket67afdfb9-pqa1faq3bool/prepared_pdf_documents/Amazon/annual_report_2021.pdf',\n",
       "  'company': 'Amazon',\n",
       "  'year': '2021',\n",
       "  'revenue': 469822000000.0,\n",
       "  'revenue_reasoning': 'Total net sales in 2021 was $469,822 million according to the table on page 47.',\n",
       "  'revenue_unit': 'USD',\n",
       "  'revenue_unit_reasoning': 'The financial report is in US dollars.'},\n",
       " {'source_doc': 's3://assistantbackendstack-agentdatabucket67afdfb9-pqa1faq3bool/prepared_pdf_documents/Amazon/annual_report_2021.pdf',\n",
       "  'company': 'Amazon',\n",
       "  'year': '2021',\n",
       "  'risks': 'The main risks impacting Amazon in 2021 are: intense competition, expansion into new products and geographies, dependence on technology, seasonal fluctuations in business, fraudulent activities by sellers, protecting intellectual property, and compliance with regulations in international markets.',\n",
       "  'risks_reasoning': 'Competition continues to intensify, including with the development of new business models and the entry of new and well-funded competitors, and as our competitors enter into business combinations or alliances and established companies in other market segments expand to become competitive with our business. In addition, new and enhanced technologies, including search, web and infrastructure computing services, digital content, and electronic devices continue to increase our competition. Our Expansion into New Products, Services, Technologies, and Geographic Regions Subjects Us to Additional Risks. Our International Operations Expose Us to a Number of Risks.'},\n",
       " {'source_doc': 's3://assistantbackendstack-agentdatabucket67afdfb9-pqa1faq3bool/prepared_pdf_documents/Amazon/annual_report_2021.pdf',\n",
       "  'company': 'Amazon',\n",
       "  'year': '2021',\n",
       "  'human_capital': 1608000,\n",
       "  'human_capital_reasoning': 'As of December 31, 2021, we employed approximately 1,608,000 full-time and part-time employees.'}]"
      ]
     },
     "execution_count": 42,
     "metadata": {},
     "output_type": "execute_result"
    }
   ],
   "source": [
    "parsed_entities"
   ]
  },
  {
   "cell_type": "code",
   "execution_count": 43,
   "id": "32fe9ee4-39fd-49e6-8b5d-4af6008f7474",
   "metadata": {
    "tags": []
   },
   "outputs": [
    {
     "name": "stdout",
     "output_type": "stream",
     "text": [
      "[{'company': 'Amazon', 'year': '2022', 'source_doc': 's3://assistantbackendstack-agentdatabucket67afdfb9-pqa1faq3bool/prepared_pdf_documents/Amazon/annual_report_2022.pdf', 'revenue': 513983000000.0, 'revenue_reasoning': 'Total net sales for Amazon in 2022 was $513,983 million.', 'revenue_unit': 'USD', 'revenue_unit_reasoning': 'The financial report is in US dollars.', 'risks': \"The main risks impacting Amazon in 2022 are: competition from new business models and well-funded competitors, competitors forming alliances, established companies expanding into Amazon's segments, and new technologies enabling increased competition. Other risks include limited experience and lack of first-mover advantage in new segments, failure of new products/services to be adopted, disruption risks from new products/services, lack of profitability in new segments, and unsuccessful sustainability initiatives.\", 'risks_reasoning': 'Our businesses are rapidly evolving and intensely competitive, and we have many competitors across geographies, including cross-border competition, and in different industries, including physical, e-commerce, and omnichannel retail, e-commerce services, web and infrastructure computing services, electronic devices, digital content, advertising, grocery, and transportation and logistics services. Some of our current and potential competitors have greater resources, longer histories, more customers, and/or greater brand recognition, particularly with our newly-launched products and services and in our newer geographic regions. They may secure better terms from vendors, adopt more aggressive pricing, and devote more resources to technology, infrastructure, fulfillment, and marketing. Competition continues to intensify, including with the development of new business models and the entry of new and well-funded competitors, and as our competitors enter into business combinations or alliances and established companies in other market segments expand to become competitive with our business. In addition, new and enhanced technologies, including search, web and infrastructure computing services, digital content, and electronic devices continue to increase our competition. We may have limited or no experience in our newer market segments, and our customers may not adopt our product or service offerings. These offerings, which can present new and difficult technology challenges, may subject us to claims if customers of these offerings experience, or are otherwise impacted by, service disruptions, delays, setbacks, or failures or quality issues. In addition, profitability, if any, in our newer activities may not meet our expectations, and we may not be successful enough in these newer activities to recoup our investments in them, which investments are often significant. Failure to realize the benefits of amounts we invest in new technologies, products, or services could result in the value of those investments being written down or written off. In addition, our sustainability initiatives may be unsuccessful for a variety of reasons, including if we are unable to realize the expected benefits of new technologies or if we do not successfully plan or execute new strategies, which could harm our business or damage our reputation.', 'human_capital': 1541000, 'human_capital_reasoning': 'As of December 31, 2022, we employed approximately 1,541,000 full-time and part-time employees.'}, {'company': 'Amazon', 'year': '2021', 'source_doc': 's3://assistantbackendstack-agentdatabucket67afdfb9-pqa1faq3bool/prepared_pdf_documents/Amazon/annual_report_2021.pdf', 'revenue': 469822000000.0, 'revenue_reasoning': 'Total net sales in 2021 was $469,822 million according to the table on page 47.', 'revenue_unit': 'USD', 'revenue_unit_reasoning': 'The financial report is in US dollars.', 'risks': 'The main risks impacting Amazon in 2021 are: intense competition, expansion into new products and geographies, dependence on technology, seasonal fluctuations in business, fraudulent activities by sellers, protecting intellectual property, and compliance with regulations in international markets.', 'risks_reasoning': 'Competition continues to intensify, including with the development of new business models and the entry of new and well-funded competitors, and as our competitors enter into business combinations or alliances and established companies in other market segments expand to become competitive with our business. In addition, new and enhanced technologies, including search, web and infrastructure computing services, digital content, and electronic devices continue to increase our competition. Our Expansion into New Products, Services, Technologies, and Geographic Regions Subjects Us to Additional Risks. Our International Operations Expose Us to a Number of Risks.', 'human_capital': 1608000, 'human_capital_reasoning': 'As of December 31, 2021, we employed approximately 1,608,000 full-time and part-time employees.'}]\n"
     ]
    }
   ],
   "source": [
    "from collections import defaultdict\n",
    "\n",
    "# Group by company and year into defaultdict\n",
    "grouped = defaultdict(lambda: defaultdict(list))\n",
    "for d in parsed_entities:\n",
    "    # del d[\"entity_type\"]\n",
    "    grouped[d[\"company\"]][d[\"year\"]].append(d)\n",
    "\n",
    "# Flatten into list of dicts for DataFrame\n",
    "results = []\n",
    "for comp, years in grouped.items():\n",
    "    for year, items in years.items():\n",
    "        result = {\"company\": comp, \"year\": year}\n",
    "        for item in items:\n",
    "            for k, v in item.items():\n",
    "                if k not in result:\n",
    "                    result[k] = v\n",
    "        results.append(result)\n",
    "\n",
    "print(results)"
   ]
  },
  {
   "cell_type": "code",
   "execution_count": 45,
   "id": "b2dbc734-7123-4b4f-9068-e219e54de06d",
   "metadata": {
    "tags": []
   },
   "outputs": [
    {
     "data": {
      "text/html": [
       "<div>\n",
       "<style scoped>\n",
       "    .dataframe tbody tr th:only-of-type {\n",
       "        vertical-align: middle;\n",
       "    }\n",
       "\n",
       "    .dataframe tbody tr th {\n",
       "        vertical-align: top;\n",
       "    }\n",
       "\n",
       "    .dataframe thead th {\n",
       "        text-align: right;\n",
       "    }\n",
       "</style>\n",
       "<table border=\"1\" class=\"dataframe\">\n",
       "  <thead>\n",
       "    <tr style=\"text-align: right;\">\n",
       "      <th></th>\n",
       "      <th>company</th>\n",
       "      <th>year</th>\n",
       "      <th>source_doc</th>\n",
       "      <th>revenue</th>\n",
       "      <th>revenue_reasoning</th>\n",
       "      <th>revenue_unit</th>\n",
       "      <th>revenue_unit_reasoning</th>\n",
       "      <th>risks</th>\n",
       "      <th>risks_reasoning</th>\n",
       "      <th>human_capital</th>\n",
       "      <th>human_capital_reasoning</th>\n",
       "    </tr>\n",
       "  </thead>\n",
       "  <tbody>\n",
       "    <tr>\n",
       "      <th>0</th>\n",
       "      <td>Amazon</td>\n",
       "      <td>2022</td>\n",
       "      <td>s3://assistantbackendstack-agentdatabucket67af...</td>\n",
       "      <td>5.139830e+11</td>\n",
       "      <td>Total net sales for Amazon in 2022 was $513,98...</td>\n",
       "      <td>USD</td>\n",
       "      <td>The financial report is in US dollars.</td>\n",
       "      <td>The main risks impacting Amazon in 2022 are: c...</td>\n",
       "      <td>Our businesses are rapidly evolving and intens...</td>\n",
       "      <td>1541000</td>\n",
       "      <td>As of December 31, 2022, we employed approxima...</td>\n",
       "    </tr>\n",
       "    <tr>\n",
       "      <th>1</th>\n",
       "      <td>Amazon</td>\n",
       "      <td>2021</td>\n",
       "      <td>s3://assistantbackendstack-agentdatabucket67af...</td>\n",
       "      <td>4.698220e+11</td>\n",
       "      <td>Total net sales in 2021 was $469,822 million a...</td>\n",
       "      <td>USD</td>\n",
       "      <td>The financial report is in US dollars.</td>\n",
       "      <td>The main risks impacting Amazon in 2021 are: i...</td>\n",
       "      <td>Competition continues to intensify, including ...</td>\n",
       "      <td>1608000</td>\n",
       "      <td>As of December 31, 2021, we employed approxima...</td>\n",
       "    </tr>\n",
       "  </tbody>\n",
       "</table>\n",
       "</div>"
      ],
      "text/plain": [
       "  company  year                                         source_doc  \\\n",
       "0  Amazon  2022  s3://assistantbackendstack-agentdatabucket67af...   \n",
       "1  Amazon  2021  s3://assistantbackendstack-agentdatabucket67af...   \n",
       "\n",
       "        revenue                                  revenue_reasoning  \\\n",
       "0  5.139830e+11  Total net sales for Amazon in 2022 was $513,98...   \n",
       "1  4.698220e+11  Total net sales in 2021 was $469,822 million a...   \n",
       "\n",
       "  revenue_unit                  revenue_unit_reasoning  \\\n",
       "0          USD  The financial report is in US dollars.   \n",
       "1          USD  The financial report is in US dollars.   \n",
       "\n",
       "                                               risks  \\\n",
       "0  The main risks impacting Amazon in 2022 are: c...   \n",
       "1  The main risks impacting Amazon in 2021 are: i...   \n",
       "\n",
       "                                     risks_reasoning  human_capital  \\\n",
       "0  Our businesses are rapidly evolving and intens...        1541000   \n",
       "1  Competition continues to intensify, including ...        1608000   \n",
       "\n",
       "                             human_capital_reasoning  \n",
       "0  As of December 31, 2022, we employed approxima...  \n",
       "1  As of December 31, 2021, we employed approxima...  "
      ]
     },
     "execution_count": 45,
     "metadata": {},
     "output_type": "execute_result"
    }
   ],
   "source": [
    "import pandas as pd\n",
    "\n",
    "entities_df = pd.DataFrame(results)\n",
    "entities_df"
   ]
  },
  {
   "cell_type": "code",
   "execution_count": 46,
   "id": "f65fab09-70ef-4723-8616-5eb66e4cb71d",
   "metadata": {
    "tags": []
   },
   "outputs": [],
   "source": [
    "entities_df.to_csv(\"extracted_entities.csv\")"
   ]
  },
  {
   "cell_type": "markdown",
   "id": "3b8a66f4-d762-4623-b9eb-f9b4f103223d",
   "metadata": {},
   "source": [
    "## Upload structured metadata csv file to S3"
   ]
  },
  {
   "cell_type": "code",
   "execution_count": 47,
   "id": "0625f761-8c6a-4ea3-8a5d-c63db949ab81",
   "metadata": {
    "tags": []
   },
   "outputs": [
    {
     "name": "stdout",
     "output_type": "stream",
     "text": [
      "upload: ./extracted_entities.csv to s3://assistantbackendstack-agentdatabucket67afdfb9-pqa1faq3bool/structured_metadata/extracted_entities.csv\n"
     ]
    }
   ],
   "source": [
    "!aws s3 cp ./extracted_entities.csv s3://{S3_BUCKET_NAME}/structured_metadata/extracted_entities.csv"
   ]
  }
 ],
 "metadata": {
  "availableInstances": [
   {
    "_defaultOrder": 0,
    "_isFastLaunch": true,
    "category": "General purpose",
    "gpuNum": 0,
    "hideHardwareSpecs": false,
    "memoryGiB": 4,
    "name": "ml.t3.medium",
    "vcpuNum": 2
   },
   {
    "_defaultOrder": 1,
    "_isFastLaunch": false,
    "category": "General purpose",
    "gpuNum": 0,
    "hideHardwareSpecs": false,
    "memoryGiB": 8,
    "name": "ml.t3.large",
    "vcpuNum": 2
   },
   {
    "_defaultOrder": 2,
    "_isFastLaunch": false,
    "category": "General purpose",
    "gpuNum": 0,
    "hideHardwareSpecs": false,
    "memoryGiB": 16,
    "name": "ml.t3.xlarge",
    "vcpuNum": 4
   },
   {
    "_defaultOrder": 3,
    "_isFastLaunch": false,
    "category": "General purpose",
    "gpuNum": 0,
    "hideHardwareSpecs": false,
    "memoryGiB": 32,
    "name": "ml.t3.2xlarge",
    "vcpuNum": 8
   },
   {
    "_defaultOrder": 4,
    "_isFastLaunch": true,
    "category": "General purpose",
    "gpuNum": 0,
    "hideHardwareSpecs": false,
    "memoryGiB": 8,
    "name": "ml.m5.large",
    "vcpuNum": 2
   },
   {
    "_defaultOrder": 5,
    "_isFastLaunch": false,
    "category": "General purpose",
    "gpuNum": 0,
    "hideHardwareSpecs": false,
    "memoryGiB": 16,
    "name": "ml.m5.xlarge",
    "vcpuNum": 4
   },
   {
    "_defaultOrder": 6,
    "_isFastLaunch": false,
    "category": "General purpose",
    "gpuNum": 0,
    "hideHardwareSpecs": false,
    "memoryGiB": 32,
    "name": "ml.m5.2xlarge",
    "vcpuNum": 8
   },
   {
    "_defaultOrder": 7,
    "_isFastLaunch": false,
    "category": "General purpose",
    "gpuNum": 0,
    "hideHardwareSpecs": false,
    "memoryGiB": 64,
    "name": "ml.m5.4xlarge",
    "vcpuNum": 16
   },
   {
    "_defaultOrder": 8,
    "_isFastLaunch": false,
    "category": "General purpose",
    "gpuNum": 0,
    "hideHardwareSpecs": false,
    "memoryGiB": 128,
    "name": "ml.m5.8xlarge",
    "vcpuNum": 32
   },
   {
    "_defaultOrder": 9,
    "_isFastLaunch": false,
    "category": "General purpose",
    "gpuNum": 0,
    "hideHardwareSpecs": false,
    "memoryGiB": 192,
    "name": "ml.m5.12xlarge",
    "vcpuNum": 48
   },
   {
    "_defaultOrder": 10,
    "_isFastLaunch": false,
    "category": "General purpose",
    "gpuNum": 0,
    "hideHardwareSpecs": false,
    "memoryGiB": 256,
    "name": "ml.m5.16xlarge",
    "vcpuNum": 64
   },
   {
    "_defaultOrder": 11,
    "_isFastLaunch": false,
    "category": "General purpose",
    "gpuNum": 0,
    "hideHardwareSpecs": false,
    "memoryGiB": 384,
    "name": "ml.m5.24xlarge",
    "vcpuNum": 96
   },
   {
    "_defaultOrder": 12,
    "_isFastLaunch": false,
    "category": "General purpose",
    "gpuNum": 0,
    "hideHardwareSpecs": false,
    "memoryGiB": 8,
    "name": "ml.m5d.large",
    "vcpuNum": 2
   },
   {
    "_defaultOrder": 13,
    "_isFastLaunch": false,
    "category": "General purpose",
    "gpuNum": 0,
    "hideHardwareSpecs": false,
    "memoryGiB": 16,
    "name": "ml.m5d.xlarge",
    "vcpuNum": 4
   },
   {
    "_defaultOrder": 14,
    "_isFastLaunch": false,
    "category": "General purpose",
    "gpuNum": 0,
    "hideHardwareSpecs": false,
    "memoryGiB": 32,
    "name": "ml.m5d.2xlarge",
    "vcpuNum": 8
   },
   {
    "_defaultOrder": 15,
    "_isFastLaunch": false,
    "category": "General purpose",
    "gpuNum": 0,
    "hideHardwareSpecs": false,
    "memoryGiB": 64,
    "name": "ml.m5d.4xlarge",
    "vcpuNum": 16
   },
   {
    "_defaultOrder": 16,
    "_isFastLaunch": false,
    "category": "General purpose",
    "gpuNum": 0,
    "hideHardwareSpecs": false,
    "memoryGiB": 128,
    "name": "ml.m5d.8xlarge",
    "vcpuNum": 32
   },
   {
    "_defaultOrder": 17,
    "_isFastLaunch": false,
    "category": "General purpose",
    "gpuNum": 0,
    "hideHardwareSpecs": false,
    "memoryGiB": 192,
    "name": "ml.m5d.12xlarge",
    "vcpuNum": 48
   },
   {
    "_defaultOrder": 18,
    "_isFastLaunch": false,
    "category": "General purpose",
    "gpuNum": 0,
    "hideHardwareSpecs": false,
    "memoryGiB": 256,
    "name": "ml.m5d.16xlarge",
    "vcpuNum": 64
   },
   {
    "_defaultOrder": 19,
    "_isFastLaunch": false,
    "category": "General purpose",
    "gpuNum": 0,
    "hideHardwareSpecs": false,
    "memoryGiB": 384,
    "name": "ml.m5d.24xlarge",
    "vcpuNum": 96
   },
   {
    "_defaultOrder": 20,
    "_isFastLaunch": false,
    "category": "General purpose",
    "gpuNum": 0,
    "hideHardwareSpecs": true,
    "memoryGiB": 0,
    "name": "ml.geospatial.interactive",
    "supportedImageNames": [
     "sagemaker-geospatial-v1-0"
    ],
    "vcpuNum": 0
   },
   {
    "_defaultOrder": 21,
    "_isFastLaunch": true,
    "category": "Compute optimized",
    "gpuNum": 0,
    "hideHardwareSpecs": false,
    "memoryGiB": 4,
    "name": "ml.c5.large",
    "vcpuNum": 2
   },
   {
    "_defaultOrder": 22,
    "_isFastLaunch": false,
    "category": "Compute optimized",
    "gpuNum": 0,
    "hideHardwareSpecs": false,
    "memoryGiB": 8,
    "name": "ml.c5.xlarge",
    "vcpuNum": 4
   },
   {
    "_defaultOrder": 23,
    "_isFastLaunch": false,
    "category": "Compute optimized",
    "gpuNum": 0,
    "hideHardwareSpecs": false,
    "memoryGiB": 16,
    "name": "ml.c5.2xlarge",
    "vcpuNum": 8
   },
   {
    "_defaultOrder": 24,
    "_isFastLaunch": false,
    "category": "Compute optimized",
    "gpuNum": 0,
    "hideHardwareSpecs": false,
    "memoryGiB": 32,
    "name": "ml.c5.4xlarge",
    "vcpuNum": 16
   },
   {
    "_defaultOrder": 25,
    "_isFastLaunch": false,
    "category": "Compute optimized",
    "gpuNum": 0,
    "hideHardwareSpecs": false,
    "memoryGiB": 72,
    "name": "ml.c5.9xlarge",
    "vcpuNum": 36
   },
   {
    "_defaultOrder": 26,
    "_isFastLaunch": false,
    "category": "Compute optimized",
    "gpuNum": 0,
    "hideHardwareSpecs": false,
    "memoryGiB": 96,
    "name": "ml.c5.12xlarge",
    "vcpuNum": 48
   },
   {
    "_defaultOrder": 27,
    "_isFastLaunch": false,
    "category": "Compute optimized",
    "gpuNum": 0,
    "hideHardwareSpecs": false,
    "memoryGiB": 144,
    "name": "ml.c5.18xlarge",
    "vcpuNum": 72
   },
   {
    "_defaultOrder": 28,
    "_isFastLaunch": false,
    "category": "Compute optimized",
    "gpuNum": 0,
    "hideHardwareSpecs": false,
    "memoryGiB": 192,
    "name": "ml.c5.24xlarge",
    "vcpuNum": 96
   },
   {
    "_defaultOrder": 29,
    "_isFastLaunch": true,
    "category": "Accelerated computing",
    "gpuNum": 1,
    "hideHardwareSpecs": false,
    "memoryGiB": 16,
    "name": "ml.g4dn.xlarge",
    "vcpuNum": 4
   },
   {
    "_defaultOrder": 30,
    "_isFastLaunch": false,
    "category": "Accelerated computing",
    "gpuNum": 1,
    "hideHardwareSpecs": false,
    "memoryGiB": 32,
    "name": "ml.g4dn.2xlarge",
    "vcpuNum": 8
   },
   {
    "_defaultOrder": 31,
    "_isFastLaunch": false,
    "category": "Accelerated computing",
    "gpuNum": 1,
    "hideHardwareSpecs": false,
    "memoryGiB": 64,
    "name": "ml.g4dn.4xlarge",
    "vcpuNum": 16
   },
   {
    "_defaultOrder": 32,
    "_isFastLaunch": false,
    "category": "Accelerated computing",
    "gpuNum": 1,
    "hideHardwareSpecs": false,
    "memoryGiB": 128,
    "name": "ml.g4dn.8xlarge",
    "vcpuNum": 32
   },
   {
    "_defaultOrder": 33,
    "_isFastLaunch": false,
    "category": "Accelerated computing",
    "gpuNum": 4,
    "hideHardwareSpecs": false,
    "memoryGiB": 192,
    "name": "ml.g4dn.12xlarge",
    "vcpuNum": 48
   },
   {
    "_defaultOrder": 34,
    "_isFastLaunch": false,
    "category": "Accelerated computing",
    "gpuNum": 1,
    "hideHardwareSpecs": false,
    "memoryGiB": 256,
    "name": "ml.g4dn.16xlarge",
    "vcpuNum": 64
   },
   {
    "_defaultOrder": 35,
    "_isFastLaunch": false,
    "category": "Accelerated computing",
    "gpuNum": 1,
    "hideHardwareSpecs": false,
    "memoryGiB": 61,
    "name": "ml.p3.2xlarge",
    "vcpuNum": 8
   },
   {
    "_defaultOrder": 36,
    "_isFastLaunch": false,
    "category": "Accelerated computing",
    "gpuNum": 4,
    "hideHardwareSpecs": false,
    "memoryGiB": 244,
    "name": "ml.p3.8xlarge",
    "vcpuNum": 32
   },
   {
    "_defaultOrder": 37,
    "_isFastLaunch": false,
    "category": "Accelerated computing",
    "gpuNum": 8,
    "hideHardwareSpecs": false,
    "memoryGiB": 488,
    "name": "ml.p3.16xlarge",
    "vcpuNum": 64
   },
   {
    "_defaultOrder": 38,
    "_isFastLaunch": false,
    "category": "Accelerated computing",
    "gpuNum": 8,
    "hideHardwareSpecs": false,
    "memoryGiB": 768,
    "name": "ml.p3dn.24xlarge",
    "vcpuNum": 96
   },
   {
    "_defaultOrder": 39,
    "_isFastLaunch": false,
    "category": "Memory Optimized",
    "gpuNum": 0,
    "hideHardwareSpecs": false,
    "memoryGiB": 16,
    "name": "ml.r5.large",
    "vcpuNum": 2
   },
   {
    "_defaultOrder": 40,
    "_isFastLaunch": false,
    "category": "Memory Optimized",
    "gpuNum": 0,
    "hideHardwareSpecs": false,
    "memoryGiB": 32,
    "name": "ml.r5.xlarge",
    "vcpuNum": 4
   },
   {
    "_defaultOrder": 41,
    "_isFastLaunch": false,
    "category": "Memory Optimized",
    "gpuNum": 0,
    "hideHardwareSpecs": false,
    "memoryGiB": 64,
    "name": "ml.r5.2xlarge",
    "vcpuNum": 8
   },
   {
    "_defaultOrder": 42,
    "_isFastLaunch": false,
    "category": "Memory Optimized",
    "gpuNum": 0,
    "hideHardwareSpecs": false,
    "memoryGiB": 128,
    "name": "ml.r5.4xlarge",
    "vcpuNum": 16
   },
   {
    "_defaultOrder": 43,
    "_isFastLaunch": false,
    "category": "Memory Optimized",
    "gpuNum": 0,
    "hideHardwareSpecs": false,
    "memoryGiB": 256,
    "name": "ml.r5.8xlarge",
    "vcpuNum": 32
   },
   {
    "_defaultOrder": 44,
    "_isFastLaunch": false,
    "category": "Memory Optimized",
    "gpuNum": 0,
    "hideHardwareSpecs": false,
    "memoryGiB": 384,
    "name": "ml.r5.12xlarge",
    "vcpuNum": 48
   },
   {
    "_defaultOrder": 45,
    "_isFastLaunch": false,
    "category": "Memory Optimized",
    "gpuNum": 0,
    "hideHardwareSpecs": false,
    "memoryGiB": 512,
    "name": "ml.r5.16xlarge",
    "vcpuNum": 64
   },
   {
    "_defaultOrder": 46,
    "_isFastLaunch": false,
    "category": "Memory Optimized",
    "gpuNum": 0,
    "hideHardwareSpecs": false,
    "memoryGiB": 768,
    "name": "ml.r5.24xlarge",
    "vcpuNum": 96
   },
   {
    "_defaultOrder": 47,
    "_isFastLaunch": false,
    "category": "Accelerated computing",
    "gpuNum": 1,
    "hideHardwareSpecs": false,
    "memoryGiB": 16,
    "name": "ml.g5.xlarge",
    "vcpuNum": 4
   },
   {
    "_defaultOrder": 48,
    "_isFastLaunch": false,
    "category": "Accelerated computing",
    "gpuNum": 1,
    "hideHardwareSpecs": false,
    "memoryGiB": 32,
    "name": "ml.g5.2xlarge",
    "vcpuNum": 8
   },
   {
    "_defaultOrder": 49,
    "_isFastLaunch": false,
    "category": "Accelerated computing",
    "gpuNum": 1,
    "hideHardwareSpecs": false,
    "memoryGiB": 64,
    "name": "ml.g5.4xlarge",
    "vcpuNum": 16
   },
   {
    "_defaultOrder": 50,
    "_isFastLaunch": false,
    "category": "Accelerated computing",
    "gpuNum": 1,
    "hideHardwareSpecs": false,
    "memoryGiB": 128,
    "name": "ml.g5.8xlarge",
    "vcpuNum": 32
   },
   {
    "_defaultOrder": 51,
    "_isFastLaunch": false,
    "category": "Accelerated computing",
    "gpuNum": 1,
    "hideHardwareSpecs": false,
    "memoryGiB": 256,
    "name": "ml.g5.16xlarge",
    "vcpuNum": 64
   },
   {
    "_defaultOrder": 52,
    "_isFastLaunch": false,
    "category": "Accelerated computing",
    "gpuNum": 4,
    "hideHardwareSpecs": false,
    "memoryGiB": 192,
    "name": "ml.g5.12xlarge",
    "vcpuNum": 48
   },
   {
    "_defaultOrder": 53,
    "_isFastLaunch": false,
    "category": "Accelerated computing",
    "gpuNum": 4,
    "hideHardwareSpecs": false,
    "memoryGiB": 384,
    "name": "ml.g5.24xlarge",
    "vcpuNum": 96
   },
   {
    "_defaultOrder": 54,
    "_isFastLaunch": false,
    "category": "Accelerated computing",
    "gpuNum": 8,
    "hideHardwareSpecs": false,
    "memoryGiB": 768,
    "name": "ml.g5.48xlarge",
    "vcpuNum": 192
   },
   {
    "_defaultOrder": 55,
    "_isFastLaunch": false,
    "category": "Accelerated computing",
    "gpuNum": 8,
    "hideHardwareSpecs": false,
    "memoryGiB": 1152,
    "name": "ml.p4d.24xlarge",
    "vcpuNum": 96
   },
   {
    "_defaultOrder": 56,
    "_isFastLaunch": false,
    "category": "Accelerated computing",
    "gpuNum": 8,
    "hideHardwareSpecs": false,
    "memoryGiB": 1152,
    "name": "ml.p4de.24xlarge",
    "vcpuNum": 96
   }
  ],
  "instance_type": "ml.t3.medium",
  "kernelspec": {
   "display_name": "Python 3 (ipykernel)",
   "language": "python",
   "name": "python3"
  },
  "language_info": {
   "codemirror_mode": {
    "name": "ipython",
    "version": 3
   },
   "file_extension": ".py",
   "mimetype": "text/x-python",
   "name": "python",
   "nbconvert_exporter": "python",
   "pygments_lexer": "ipython3",
   "version": "3.10.13"
  }
 },
 "nbformat": 4,
 "nbformat_minor": 5
}
